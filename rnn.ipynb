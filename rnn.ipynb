{
 "cells": [
  {
   "cell_type": "code",
   "execution_count": 1,
   "metadata": {},
   "outputs": [],
   "source": [
    "import tensorflow as tf"
   ]
  },
  {
   "cell_type": "code",
   "execution_count": 2,
   "metadata": {},
   "outputs": [],
   "source": [
    "B = 3\n",
    "D = 4\n",
    "T = 5\n",
    "\n",
    "tf.reset_default_graph()\n",
    "\n",
    "xs = tf.placeholder(shape=[T, B, D], dtype=tf.float32)\n",
    "\n",
    "with tf.variable_scope(\"MyRNN\"):\n",
    "    LSTMcell = tf.contrib.rnn.LSTMCell(num_units = D)\n",
    "    cell = tf.contrib.rnn.MultiRNNCell([LSTMcell]) \n",
    "\n",
    "    output_ta = tf.TensorArray(size=T, dtype=tf.float32)\n",
    "    input_ta = tf.TensorArray(size=T, dtype=tf.float32)\n",
    "    input_ta = input_ta.unstack(xs)\n",
    "\n",
    "    def body(time, output_ta_t, state):\n",
    "        xt = input_ta.read(time)\n",
    "        new_output, new_state = cell(xt, state)\n",
    "        output_ta_t = output_ta_t.write(time, new_output)\n",
    "        return (time+1, output_ta_t, new_state)\n",
    "\n",
    "    def condition(time, output, state):\n",
    "        return time < T\n",
    "\n",
    "    time = 0\n",
    "    state = cell.zero_state(B, tf.float32)\n",
    "\n",
    "    time_final, output_ta_final, state_final = tf.while_loop(\n",
    "          cond=condition,\n",
    "          body=body,\n",
    "          loop_vars=(time, output_ta, state))\n",
    "\n",
    "    output_final = output_ta_final.stack()"
   ]
  },
  {
   "cell_type": "code",
   "execution_count": 8,
   "metadata": {},
   "outputs": [],
   "source": [
    "with tf.Session() as sess:\n",
    "    writer = tf.summary.FileWriter(\"output\", sess.graph)\n",
    "#     print(sess.run())\n",
    "    writer.close()"
   ]
  },
  {
   "cell_type": "code",
   "execution_count": null,
   "metadata": {},
   "outputs": [],
   "source": []
  }
 ],
 "metadata": {
  "kernelspec": {
   "display_name": "Python (tfenv)",
   "language": "python",
   "name": "tfenv"
  },
  "language_info": {
   "codemirror_mode": {
    "name": "ipython",
    "version": 3
   },
   "file_extension": ".py",
   "mimetype": "text/x-python",
   "name": "python",
   "nbconvert_exporter": "python",
   "pygments_lexer": "ipython3",
   "version": "3.6.8"
  }
 },
 "nbformat": 4,
 "nbformat_minor": 2
}
