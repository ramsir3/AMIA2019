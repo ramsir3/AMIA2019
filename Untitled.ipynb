{
 "cells": [
  {
   "cell_type": "code",
   "execution_count": 1,
   "metadata": {},
   "outputs": [],
   "source": [
    "%load_ext memory_profiler\n",
    "%load_ext line_profiler"
   ]
  },
  {
   "cell_type": "code",
   "execution_count": 2,
   "metadata": {},
   "outputs": [],
   "source": [
    "from rnn_pipeline import runTraining"
   ]
  },
  {
   "cell_type": "code",
   "execution_count": 4,
   "metadata": {
    "scrolled": false
   },
   "outputs": [
    {
     "name": "stdout",
     "output_type": "stream",
     "text": [
      "loaded config /home/ram/Projects/AMIA2019/rnn2.cfg\n",
      "[('devel', 297), ('test', 102), ('valid', 101)]\n",
      "input:\n",
      "100 x 200 x 178\n",
      "  v x   h x   f\n",
      "output:\n",
      "100 x 200 x   4\n",
      "  v x   h x   s\n",
      "\n",
      "['AGE' 'GENDER' 'P WEIGHT' 'P HEIGHT' 'P SYSTOLIC BP' 'P DIASTOLIC BP'\n",
      " 'P TEMPERATURE' 'P RESPIRATORY RATE' 'P HEART RATE' 'P SPO2'\n",
      " 'P CREATININE' 'P UREA NITROGEN' 'P HEMATOCRIT' 'P PLATELET COUNT'\n",
      " 'P WHITE BLOOD CELLS' 'P HEMOGLOBIN' 'P MCHC' 'P MCH' 'P MCV'\n",
      " 'P RED BLOOD CELLS' 'P RDW' 'P POTASSIUM' 'P SODIUM' 'P CHLORIDE'\n",
      " 'P BICARBONATE' 'P ANION GAP' 'P GLUCOSE' 'P MAGNESIUM' 'P PHOSPHATE'\n",
      " 'P CALCIUM' 'P INR(PT)' 'P PT' 'P PTT' 'P PH' 'P PH' 'P SPECIFIC GRAVITY'\n",
      " 'P LYMPHOCYTES' 'P MONOCYTES' 'P NEUTROPHILS' 'P BASOPHILS'\n",
      " 'P EOSINOPHILS' 'P BASE EXCESS' 'P CALCULATED TOTAL CO2' 'P PO2' 'P PCO2'\n",
      " 'P LACTATE' 'P ALANINE AMINOTRANSFERASE (ALT)'\n",
      " 'P ASPARATE AMINOTRANSFERASE (AST)' 'P PROTEIN' 'P BILIRUBIN'\n",
      " 'P ALKALINE PHOSPHATASE' 'P KETONE' 'P UROBILINOGEN' 'P GLUCOSE'\n",
      " 'P ALBUMIN' 'P URINE COLOR' 'P YEAST' 'P WBC' 'P RBC' 'P LEUKOCYTES'\n",
      " 'P EPITHELIAL CELLS' 'P POTASSIUM' 'P FREE CALCIUM'\n",
      " 'P CREATINE KINASE (CK)' 'P GLUCOSE' 'P CREATINE KINASE' 'P BACTERIA'\n",
      " 'P LACTATE DEHYDROGENASE (LD)' 'P HEMATOCRIT' 'P HEMOGLOBIN' 'P SODIUM'\n",
      " 'P OXYGEN SATURATION' 'P LIPASE' 'P TROPONIN T' 'P CHLORIDE'\n",
      " 'P TEMPERATURE' 'P OXYGEN' 'P AMYLASE' 'P BANDS' 'P FIBRINOGEN'\n",
      " 'P TIDAL VOLUME' 'P LENGTH OF URINE COLLECTION' 'P HYPOCHROMIA'\n",
      " 'P CREATININE' 'P PEEP' 'P ATYPICAL LYMPHOCYTES' 'P METAMYELOCYTES'\n",
      " 'P MYELOCYTES' 'P ANISOCYTOSIS' 'P SODIUM' 'WEIGHT' 'HEIGHT'\n",
      " 'SYSTOLIC BP' 'DIASTOLIC BP' 'TEMPERATURE' 'RESPIRATORY RATE'\n",
      " 'HEART RATE' 'SPO2' 'CREATININE' 'UREA NITROGEN' 'HEMATOCRIT'\n",
      " 'PLATELET COUNT' 'WHITE BLOOD CELLS' 'HEMOGLOBIN' 'MCHC' 'MCH' 'MCV'\n",
      " 'RED BLOOD CELLS' 'RDW' 'POTASSIUM' 'SODIUM' 'CHLORIDE' 'BICARBONATE'\n",
      " 'ANION GAP' 'GLUCOSE' 'MAGNESIUM' 'PHOSPHATE' 'CALCIUM' 'INR(PT)' 'PT'\n",
      " 'PTT' 'PH' 'PH' 'SPECIFIC GRAVITY' 'LYMPHOCYTES' 'MONOCYTES'\n",
      " 'NEUTROPHILS' 'BASOPHILS' 'EOSINOPHILS' 'BASE EXCESS'\n",
      " 'CALCULATED TOTAL CO2' 'PO2' 'PCO2' 'LACTATE'\n",
      " 'ALANINE AMINOTRANSFERASE (ALT)' 'ASPARATE AMINOTRANSFERASE (AST)'\n",
      " 'PROTEIN' 'BILIRUBIN' 'ALKALINE PHOSPHATASE' 'KETONE' 'UROBILINOGEN'\n",
      " 'GLUCOSE' 'ALBUMIN' 'URINE COLOR' 'YEAST' 'WBC' 'RBC' 'LEUKOCYTES'\n",
      " 'EPITHELIAL CELLS' 'POTASSIUM' 'FREE CALCIUM' 'CREATINE KINASE (CK)'\n",
      " 'GLUCOSE' 'CREATINE KINASE' 'BACTERIA' 'LACTATE DEHYDROGENASE (LD)'\n",
      " 'HEMATOCRIT' 'HEMOGLOBIN' 'SODIUM' 'OXYGEN SATURATION' 'LIPASE'\n",
      " 'TROPONIN T' 'CHLORIDE' 'TEMPERATURE' 'OXYGEN' 'AMYLASE' 'BANDS'\n",
      " 'FIBRINOGEN' 'TIDAL VOLUME' 'LENGTH OF URINE COLLECTION' 'HYPOCHROMIA'\n",
      " 'CREATININE' 'PEEP' 'ATYPICAL LYMPHOCYTES' 'METAMYELOCYTES' 'MYELOCYTES'\n",
      " 'ANISOCYTOSIS' 'SODIUM']\n",
      "Step     1 | L2 Loss = 12404.2705, Train Accuracy = 0.031\n",
      "Optimization Finished!\n",
      "Step     3 | L2 Loss = 9706.9346, Train Accuracy = 0.040\n",
      "Test accuracy: 0.17935\n",
      "Test accuracy: 0.17627450980392156\n",
      "\n",
      "\n",
      "*** Profile printout saved to text file mprof0. \n"
     ]
    }
   ],
   "source": [
    "%mprun -T mprof0 -f runTraining(\"/home/ram/Projects/AMIA2019/rnn2.cfg\")"
   ]
  },
  {
   "cell_type": "code",
   "execution_count": null,
   "metadata": {},
   "outputs": [],
   "source": []
  },
  {
   "cell_type": "code",
   "execution_count": null,
   "metadata": {},
   "outputs": [],
   "source": []
  }
 ],
 "metadata": {
  "kernelspec": {
   "display_name": "Python (tfenv)",
   "language": "python",
   "name": "tfenv"
  },
  "language_info": {
   "codemirror_mode": {
    "name": "ipython",
    "version": 3
   },
   "file_extension": ".py",
   "mimetype": "text/x-python",
   "name": "python",
   "nbconvert_exporter": "python",
   "pygments_lexer": "ipython3",
   "version": "3.6.8"
  }
 },
 "nbformat": 4,
 "nbformat_minor": 2
}
