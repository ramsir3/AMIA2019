{
 "cells": [
  {
   "cell_type": "code",
   "execution_count": 1,
   "metadata": {},
   "outputs": [],
   "source": [
    "import os, time\n",
    "from constants import *"
   ]
  },
  {
   "cell_type": "code",
   "execution_count": 2,
   "metadata": {},
   "outputs": [],
   "source": [
    "import pandas as pd\n",
    "import numpy as np"
   ]
  },
  {
   "cell_type": "code",
   "execution_count": 3,
   "metadata": {
    "scrolled": false
   },
   "outputs": [
    {
     "data": {
      "text/plain": [
       "array(['SUBJECT_ID', 'HADM_ID', 'AGE', 'GENDER', 'TSTAGE', 'WEIGHT',\n",
       "       'HEIGHT', 'SYSTOLIC BP', 'DIASTOLIC BP', 'TEMPERATURE',\n",
       "       'RESPIRATORY RATE', 'HEART RATE', 'SPO2', '50912', '51006',\n",
       "       '51221', '51265', '51301', '51222', '51249', '51248', '51250',\n",
       "       '51279', '51277', '50971', '50983', '50902', '50882', '50868',\n",
       "       '50931', '50960', '50970', '50893', '51237', '51274', '51275',\n",
       "       '50820', '51491', '51498', '51244', '51254', '51256', '51146',\n",
       "       '51200', '50802', '50804', '50821', '50818', '50813', '50861',\n",
       "       '50878', '51492', '50885', '50863', '51484', '51514', '51478',\n",
       "       '50862', '51508', '51506', '51466', '51464', '51487', 'STAGE'],\n",
       "      dtype='<U16')"
      ]
     },
     "execution_count": 3,
     "metadata": {},
     "output_type": "execute_result"
    }
   ],
   "source": [
    "headers = np.genfromtxt(os.path.join(PROCESSED_PATH, \"HOUR_00001.csv\"), delimiter=',', max_rows=1, dtype=str)\n",
    "headers"
   ]
  },
  {
   "cell_type": "code",
   "execution_count": 4,
   "metadata": {
    "scrolled": true
   },
   "outputs": [],
   "source": [
    "data = np.genfromtxt(os.path.join(PROCESSED_PATH, \"HOUR_00001.csv\"), delimiter=',', skip_header=1)"
   ]
  },
  {
   "cell_type": "code",
   "execution_count": 5,
   "metadata": {},
   "outputs": [
    {
     "name": "stdout",
     "output_type": "stream",
     "text": [
      "(17266, 2)\n",
      "(17266, 59)\n",
      "[[ 1.   1.   nan ...  nan  nan  nan]\n",
      " [ 0.   0.  53.6 ...  nan  nan  nan]\n",
      " [ 0.   9.   nan ...  nan  nan  nan]\n",
      " ...\n",
      " [ 0.  35.   nan ...  nan  nan  nan]\n",
      " [ 0.   8.   nan ...  nan  nan  nan]\n",
      " [ 1.   0.   nan ...  nan  nan  nan]]\n",
      "(17266,)\n"
     ]
    }
   ],
   "source": [
    "subject_hadm_ids = data[:,0:2]\n",
    "print(subject_hadm_ids.shape)\n",
    "\n",
    "x = data[:,3:-2]\n",
    "print(x.shape)\n",
    "print(x)\n",
    "\n",
    "y = data[:,-1]\n",
    "print(y.shape)\n",
    "# y"
   ]
  },
  {
   "cell_type": "code",
   "execution_count": 9,
   "metadata": {
    "scrolled": false
   },
   "outputs": [
    {
     "name": "stdout",
     "output_type": "stream",
     "text": [
      "row: 10965 num_nan: 14 (0.219)\n",
      "000 |       SUBJECT_ID | 12136.000000\n",
      "001 |          HADM_ID | 108671.000000\n",
      "002 |              AGE | 72.000000\n",
      "003 |           GENDER | 0.000000\n",
      "004 |           TSTAGE | 0.000000\n",
      "005 |           WEIGHT | nan\n",
      "006 |           HEIGHT | nan\n",
      "007 |      SYSTOLIC BP | 131.375000\n",
      "008 |     DIASTOLIC BP | 66.625000\n",
      "009 |      TEMPERATURE | nan\n",
      "010 | RESPIRATORY RATE | 19.250000\n",
      "011 |       HEART RATE | 71.500000\n",
      "012 |             SPO2 | 98.250000\n",
      "013 |            50912 | 0.600000\n",
      "014 |            51006 | 13.000000\n",
      "015 |            51221 | 28.100000\n",
      "016 |            51265 | 240.000000\n",
      "017 |            51301 | 6.200000\n",
      "018 |            51222 | 9.700000\n",
      "019 |            51249 | 34.500000\n",
      "020 |            51248 | 32.900000\n",
      "021 |            51250 | 95.000000\n",
      "022 |            51279 | 2.940000\n",
      "023 |            51277 | 15.100000\n",
      "024 |            50971 | 3.200000\n",
      "025 |            50983 | 135.000000\n",
      "026 |            50902 | 102.000000\n",
      "027 |            50882 | 20.000000\n",
      "028 |            50868 | 16.000000\n",
      "029 |            50931 | 204.000000\n",
      "030 |            50960 | 1.300000\n",
      "031 |            50970 | 4.700000\n",
      "032 |            50893 | 9.000000\n",
      "033 |            51237 | 1.000000\n",
      "034 |            51274 | 12.200000\n",
      "035 |            51275 | 28.300000\n",
      "036 |            50820 | 7.440000\n",
      "037 |            51491 | nan\n",
      "038 |            51498 | nan\n",
      "039 |            51244 | 9.200000\n",
      "040 |            51254 | 1.800000\n",
      "041 |            51256 | 88.200000\n",
      "042 |            51146 | 0.000000\n",
      "043 |            51200 | 0.800000\n",
      "044 |            50802 | -2.000000\n",
      "045 |            50804 | 20.000000\n",
      "046 |            50821 | 111.000000\n",
      "047 |            50818 | 29.000000\n",
      "048 |            50813 | 1.600000\n",
      "049 |            50861 | 6.000000\n",
      "050 |            50878 | 17.000000\n",
      "051 |            51492 | nan\n",
      "052 |            50885 | 0.400000\n",
      "053 |            50863 | 54.000000\n",
      "054 |            51484 | nan\n",
      "055 |            51514 | nan\n",
      "056 |            51478 | nan\n",
      "057 |            50862 | 3.600000\n",
      "058 |            51508 | nan\n",
      "059 |            51506 | nan\n",
      "060 |            51466 | nan\n",
      "061 |            51464 | nan\n",
      "062 |            51487 | nan\n",
      "063 |            STAGE | 0.000000\n"
     ]
    }
   ],
   "source": [
    "row = np.random.randint(data.shape[0])\n",
    "num_nan = np.count_nonzero(np.isnan(data[row,:]))\n",
    "print(\"row:\", row, \"num_nan:\", num_nan, \"(%.3f)\" % (num_nan/data.shape[1]))\n",
    "for i in range(data.shape[1]):\n",
    "    print(\"%03d | % 16s | %.6f\" % (i, headers[i], data[row,i]))"
   ]
  },
  {
   "cell_type": "code",
   "execution_count": 8,
   "metadata": {
    "scrolled": false
   },
   "outputs": [
    {
     "name": "stdout",
     "output_type": "stream",
     "text": [
      "000 |       SUBJECT_ID |      0 / 17266 | 0.00\n",
      "001 |          HADM_ID |      0 / 17266 | 0.00\n",
      "002 |              AGE |      0 / 17266 | 0.00\n",
      "003 |           GENDER |      0 / 17266 | 0.00\n",
      "004 |           TSTAGE |      0 / 17266 | 0.00\n",
      "005 |           WEIGHT |  14738 / 17266 | 0.85\n",
      "006 |           HEIGHT |  16575 / 17266 | 0.96\n",
      "007 |      SYSTOLIC BP |  11812 / 17266 | 0.68\n",
      "008 |     DIASTOLIC BP |  11813 / 17266 | 0.68\n",
      "009 |      TEMPERATURE |  13714 / 17266 | 0.79\n",
      "010 | RESPIRATORY RATE |  11327 / 17266 | 0.66\n",
      "011 |       HEART RATE |  11299 / 17266 | 0.65\n",
      "012 |             SPO2 |  11496 / 17266 | 0.67\n",
      "013 |            50912 |  15484 / 17266 | 0.90\n",
      "014 |            51006 |  15488 / 17266 | 0.90\n",
      "015 |            51221 |  15359 / 17266 | 0.89\n",
      "016 |            51265 |  15478 / 17266 | 0.90\n",
      "017 |            51301 |  15582 / 17266 | 0.90\n",
      "018 |            51222 |  15584 / 17266 | 0.90\n",
      "019 |            51249 |  15598 / 17266 | 0.90\n",
      "020 |            51248 |  15598 / 17266 | 0.90\n",
      "021 |            51250 |  15598 / 17266 | 0.90\n",
      "022 |            51279 |  15598 / 17266 | 0.90\n",
      "023 |            51277 |  15601 / 17266 | 0.90\n",
      "024 |            50971 |  15429 / 17266 | 0.89\n",
      "025 |            50983 |  15498 / 17266 | 0.90\n",
      "026 |            50902 |  15481 / 17266 | 0.90\n",
      "027 |            50882 |  15490 / 17266 | 0.90\n",
      "028 |            50868 |  15519 / 17266 | 0.90\n",
      "029 |            50931 |  15520 / 17266 | 0.90\n",
      "030 |            50960 |  15708 / 17266 | 0.91\n",
      "031 |            50970 |  15840 / 17266 | 0.92\n",
      "032 |            50893 |  15824 / 17266 | 0.92\n",
      "033 |            51237 |  15678 / 17266 | 0.91\n",
      "034 |            51274 |  15677 / 17266 | 0.91\n",
      "035 |            51275 |  15708 / 17266 | 0.91\n",
      "036 |            50820 |  15295 / 17266 | 0.89\n",
      "037 |            51491 |  16765 / 17266 | 0.97\n",
      "038 |            51498 |  16793 / 17266 | 0.97\n",
      "039 |            51244 |  16701 / 17266 | 0.97\n",
      "040 |            51254 |  16701 / 17266 | 0.97\n",
      "041 |            51256 |  16701 / 17266 | 0.97\n",
      "042 |            51146 |  16701 / 17266 | 0.97\n",
      "043 |            51200 |  16701 / 17266 | 0.97\n",
      "044 |            50802 |  15347 / 17266 | 0.89\n",
      "045 |            50804 |  15347 / 17266 | 0.89\n",
      "046 |            50821 |  15347 / 17266 | 0.89\n",
      "047 |            50818 |  15347 / 17266 | 0.89\n",
      "048 |            50813 |  16175 / 17266 | 0.94\n",
      "049 |            50861 |  16440 / 17266 | 0.95\n",
      "050 |            50878 |  16444 / 17266 | 0.95\n",
      "051 |            51492 |  17119 / 17266 | 0.99\n",
      "052 |            50885 |  16473 / 17266 | 0.95\n",
      "053 |            50863 |  16487 / 17266 | 0.95\n",
      "054 |            51484 |  17211 / 17266 | 1.00\n",
      "055 |            51514 |  17125 / 17266 | 0.99\n",
      "056 |            51478 |  17207 / 17266 | 1.00\n",
      "057 |            50862 |  16635 / 17266 | 0.96\n",
      "058 |            51508 |  17266 / 17266 | 1.00\n",
      "059 |            51506 |  17266 / 17266 | 1.00\n",
      "060 |            51466 |  17266 / 17266 | 1.00\n",
      "061 |            51464 |  17266 / 17266 | 1.00\n",
      "062 |            51487 |  17266 / 17266 | 1.00\n",
      "063 |            STAGE |      0 / 17266 | 0.00\n"
     ]
    }
   ],
   "source": [
    "for i in range(data.shape[1]):\n",
    "    num_nan = np.count_nonzero(np.isnan(data[:,i]))\n",
    "    percent = num_nan/data.shape[0]\n",
    "    \n",
    "    print(\"%03d | % 16s | % 6d / %d | %.2f\" % (i, headers[i], num_nan, data.shape[0], percent))"
   ]
  },
  {
   "cell_type": "code",
   "execution_count": null,
   "metadata": {},
   "outputs": [],
   "source": []
  }
 ],
 "metadata": {
  "kernelspec": {
   "display_name": "Python 3",
   "language": "python",
   "name": "python3"
  },
  "language_info": {
   "codemirror_mode": {
    "name": "ipython",
    "version": 3
   },
   "file_extension": ".py",
   "mimetype": "text/x-python",
   "name": "python",
   "nbconvert_exporter": "python",
   "pygments_lexer": "ipython3",
   "version": "3.6.6"
  }
 },
 "nbformat": 4,
 "nbformat_minor": 2
}
